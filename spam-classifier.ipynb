{
 "cells": [
  {
   "cell_type": "code",
   "execution_count": 1,
   "id": "3a2a9e84",
   "metadata": {
    "execution": {
     "iopub.execute_input": "2023-08-01T08:42:16.309145Z",
     "iopub.status.busy": "2023-08-01T08:42:16.308534Z",
     "iopub.status.idle": "2023-08-01T08:42:16.319535Z",
     "shell.execute_reply": "2023-08-01T08:42:16.318638Z"
    },
    "id": "Jrt3_jOd8cgD",
    "papermill": {
     "duration": 0.026346,
     "end_time": "2023-08-01T08:42:16.322718",
     "exception": false,
     "start_time": "2023-08-01T08:42:16.296372",
     "status": "completed"
    },
    "tags": []
   },
   "outputs": [],
   "source": [
    "import pandas as pd\n",
    "import numpy as np"
   ]
  },
  {
   "cell_type": "code",
   "execution_count": 2,
   "id": "b17508b4",
   "metadata": {
    "execution": {
     "iopub.execute_input": "2023-08-01T08:42:16.340721Z",
     "iopub.status.busy": "2023-08-01T08:42:16.340209Z",
     "iopub.status.idle": "2023-08-01T08:42:16.389166Z",
     "shell.execute_reply": "2023-08-01T08:42:16.388301Z"
    },
    "id": "JSqVwH0h8jP5",
    "outputId": "147ec7c5-3863-4fa0-9123-30d625a5e20b",
    "papermill": {
     "duration": 0.058947,
     "end_time": "2023-08-01T08:42:16.391393",
     "exception": false,
     "start_time": "2023-08-01T08:42:16.332446",
     "status": "completed"
    },
    "tags": []
   },
   "outputs": [
    {
     "data": {
      "text/html": [
       "<div>\n",
       "<style scoped>\n",
       "    .dataframe tbody tr th:only-of-type {\n",
       "        vertical-align: middle;\n",
       "    }\n",
       "\n",
       "    .dataframe tbody tr th {\n",
       "        vertical-align: top;\n",
       "    }\n",
       "\n",
       "    .dataframe thead th {\n",
       "        text-align: right;\n",
       "    }\n",
       "</style>\n",
       "<table border=\"1\" class=\"dataframe\">\n",
       "  <thead>\n",
       "    <tr style=\"text-align: right;\">\n",
       "      <th></th>\n",
       "      <th>v1</th>\n",
       "      <th>v2</th>\n",
       "    </tr>\n",
       "  </thead>\n",
       "  <tbody>\n",
       "    <tr>\n",
       "      <th>0</th>\n",
       "      <td>ham</td>\n",
       "      <td>Go until jurong point, crazy.. Available only ...</td>\n",
       "    </tr>\n",
       "    <tr>\n",
       "      <th>1</th>\n",
       "      <td>ham</td>\n",
       "      <td>Ok lar... Joking wif u oni...</td>\n",
       "    </tr>\n",
       "    <tr>\n",
       "      <th>2</th>\n",
       "      <td>spam</td>\n",
       "      <td>Free entry in 2 a wkly comp to win FA Cup fina...</td>\n",
       "    </tr>\n",
       "    <tr>\n",
       "      <th>3</th>\n",
       "      <td>ham</td>\n",
       "      <td>U dun say so early hor... U c already then say...</td>\n",
       "    </tr>\n",
       "    <tr>\n",
       "      <th>4</th>\n",
       "      <td>ham</td>\n",
       "      <td>Nah I don't think he goes to usf, he lives aro...</td>\n",
       "    </tr>\n",
       "  </tbody>\n",
       "</table>\n",
       "</div>"
      ],
      "text/plain": [
       "     v1                                                 v2\n",
       "0   ham  Go until jurong point, crazy.. Available only ...\n",
       "1   ham                      Ok lar... Joking wif u oni...\n",
       "2  spam  Free entry in 2 a wkly comp to win FA Cup fina...\n",
       "3   ham  U dun say so early hor... U c already then say...\n",
       "4   ham  Nah I don't think he goes to usf, he lives aro..."
      ]
     },
     "execution_count": 2,
     "metadata": {},
     "output_type": "execute_result"
    }
   ],
   "source": [
    "df = pd.read_csv(\"/kaggle/input/sms-spam-collection-dataset/spam.csv\", encoding=\"latin-1\", usecols=[\"v1\",\"v2\"])\n",
    "df.head()"
   ]
  },
  {
   "cell_type": "code",
   "execution_count": 3,
   "id": "08b2cc59",
   "metadata": {
    "execution": {
     "iopub.execute_input": "2023-08-01T08:42:16.407332Z",
     "iopub.status.busy": "2023-08-01T08:42:16.407054Z",
     "iopub.status.idle": "2023-08-01T08:42:16.411341Z",
     "shell.execute_reply": "2023-08-01T08:42:16.410596Z"
    },
    "id": "3blkHzRz81Zs",
    "papermill": {
     "duration": 0.014692,
     "end_time": "2023-08-01T08:42:16.413227",
     "exception": false,
     "start_time": "2023-08-01T08:42:16.398535",
     "status": "completed"
    },
    "tags": []
   },
   "outputs": [],
   "source": [
    "df.rename(columns={\"v1\": \"label\",\"v2\": \"message\"}, inplace = True)"
   ]
  },
  {
   "cell_type": "code",
   "execution_count": 4,
   "id": "22f8d205",
   "metadata": {
    "execution": {
     "iopub.execute_input": "2023-08-01T08:42:16.432372Z",
     "iopub.status.busy": "2023-08-01T08:42:16.431776Z",
     "iopub.status.idle": "2023-08-01T08:42:17.331285Z",
     "shell.execute_reply": "2023-08-01T08:42:17.330126Z"
    },
    "id": "EM5TuLB9-TZ9",
    "papermill": {
     "duration": 0.911743,
     "end_time": "2023-08-01T08:42:17.334072",
     "exception": false,
     "start_time": "2023-08-01T08:42:16.422329",
     "status": "completed"
    },
    "tags": []
   },
   "outputs": [
    {
     "name": "stderr",
     "output_type": "stream",
     "text": [
      "/opt/conda/lib/python3.10/site-packages/scipy/__init__.py:146: UserWarning: A NumPy version >=1.16.5 and <1.23.0 is required for this version of SciPy (detected version 1.23.5\n",
      "  warnings.warn(f\"A NumPy version >={np_minversion} and <{np_maxversion}\"\n"
     ]
    }
   ],
   "source": [
    "from sklearn.preprocessing import LabelEncoder\n",
    "le = LabelEncoder()\n",
    "df[\"label\"] = le.fit_transform(df[\"label\"])"
   ]
  },
  {
   "cell_type": "code",
   "execution_count": 5,
   "id": "a5b255e9",
   "metadata": {
    "execution": {
     "iopub.execute_input": "2023-08-01T08:42:17.350088Z",
     "iopub.status.busy": "2023-08-01T08:42:17.349788Z",
     "iopub.status.idle": "2023-08-01T08:42:17.356443Z",
     "shell.execute_reply": "2023-08-01T08:42:17.355631Z"
    },
    "id": "3IwKqnh7-enM",
    "outputId": "867b6f4a-4c93-489c-f96c-f15f423f2dc6",
    "papermill": {
     "duration": 0.016832,
     "end_time": "2023-08-01T08:42:17.358495",
     "exception": false,
     "start_time": "2023-08-01T08:42:17.341663",
     "status": "completed"
    },
    "tags": []
   },
   "outputs": [
    {
     "data": {
      "text/plain": [
       "(5572, 2)"
      ]
     },
     "execution_count": 5,
     "metadata": {},
     "output_type": "execute_result"
    }
   ],
   "source": [
    "df.shape"
   ]
  },
  {
   "cell_type": "code",
   "execution_count": 6,
   "id": "e62230ed",
   "metadata": {
    "execution": {
     "iopub.execute_input": "2023-08-01T08:42:17.374755Z",
     "iopub.status.busy": "2023-08-01T08:42:17.374440Z",
     "iopub.status.idle": "2023-08-01T08:42:17.398610Z",
     "shell.execute_reply": "2023-08-01T08:42:17.397393Z"
    },
    "id": "KvMkZsfG-lKx",
    "outputId": "df7b5e26-ccb2-4ef9-c89b-828757308da9",
    "papermill": {
     "duration": 0.034789,
     "end_time": "2023-08-01T08:42:17.400685",
     "exception": false,
     "start_time": "2023-08-01T08:42:17.365896",
     "status": "completed"
    },
    "tags": []
   },
   "outputs": [
    {
     "name": "stdout",
     "output_type": "stream",
     "text": [
      "<class 'pandas.core.frame.DataFrame'>\n",
      "RangeIndex: 5572 entries, 0 to 5571\n",
      "Data columns (total 2 columns):\n",
      " #   Column   Non-Null Count  Dtype \n",
      "---  ------   --------------  ----- \n",
      " 0   label    5572 non-null   int64 \n",
      " 1   message  5572 non-null   object\n",
      "dtypes: int64(1), object(1)\n",
      "memory usage: 87.2+ KB\n"
     ]
    }
   ],
   "source": [
    "df.info()"
   ]
  },
  {
   "cell_type": "code",
   "execution_count": 7,
   "id": "76536cea",
   "metadata": {
    "execution": {
     "iopub.execute_input": "2023-08-01T08:42:17.417196Z",
     "iopub.status.busy": "2023-08-01T08:42:17.416925Z",
     "iopub.status.idle": "2023-08-01T08:42:17.428118Z",
     "shell.execute_reply": "2023-08-01T08:42:17.427121Z"
    },
    "id": "paJVpQN0-oWA",
    "outputId": "7b567342-7dc2-48d2-d158-59bde710275a",
    "papermill": {
     "duration": 0.022032,
     "end_time": "2023-08-01T08:42:17.430221",
     "exception": false,
     "start_time": "2023-08-01T08:42:17.408189",
     "status": "completed"
    },
    "tags": []
   },
   "outputs": [
    {
     "data": {
      "text/plain": [
       "403"
      ]
     },
     "execution_count": 7,
     "metadata": {},
     "output_type": "execute_result"
    }
   ],
   "source": [
    "df.duplicated().sum()"
   ]
  },
  {
   "cell_type": "code",
   "execution_count": 8,
   "id": "5614d4fa",
   "metadata": {
    "execution": {
     "iopub.execute_input": "2023-08-01T08:42:17.449280Z",
     "iopub.status.busy": "2023-08-01T08:42:17.448989Z",
     "iopub.status.idle": "2023-08-01T08:42:17.456431Z",
     "shell.execute_reply": "2023-08-01T08:42:17.455811Z"
    },
    "id": "RtBCrypP-sNt",
    "papermill": {
     "duration": 0.01851,
     "end_time": "2023-08-01T08:42:17.458396",
     "exception": false,
     "start_time": "2023-08-01T08:42:17.439886",
     "status": "completed"
    },
    "tags": []
   },
   "outputs": [],
   "source": [
    "df = df.drop_duplicates(keep=\"first\")"
   ]
  },
  {
   "cell_type": "code",
   "execution_count": 9,
   "id": "a28fb5af",
   "metadata": {
    "execution": {
     "iopub.execute_input": "2023-08-01T08:42:17.475332Z",
     "iopub.status.busy": "2023-08-01T08:42:17.475069Z",
     "iopub.status.idle": "2023-08-01T08:42:17.483502Z",
     "shell.execute_reply": "2023-08-01T08:42:17.482596Z"
    },
    "id": "Z3D98KEU-vJk",
    "outputId": "454d9823-c639-451e-a2cf-c9d037b706ac",
    "papermill": {
     "duration": 0.019261,
     "end_time": "2023-08-01T08:42:17.485466",
     "exception": false,
     "start_time": "2023-08-01T08:42:17.466205",
     "status": "completed"
    },
    "tags": []
   },
   "outputs": [
    {
     "data": {
      "text/html": [
       "<div>\n",
       "<style scoped>\n",
       "    .dataframe tbody tr th:only-of-type {\n",
       "        vertical-align: middle;\n",
       "    }\n",
       "\n",
       "    .dataframe tbody tr th {\n",
       "        vertical-align: top;\n",
       "    }\n",
       "\n",
       "    .dataframe thead th {\n",
       "        text-align: right;\n",
       "    }\n",
       "</style>\n",
       "<table border=\"1\" class=\"dataframe\">\n",
       "  <thead>\n",
       "    <tr style=\"text-align: right;\">\n",
       "      <th></th>\n",
       "      <th>label</th>\n",
       "      <th>message</th>\n",
       "    </tr>\n",
       "  </thead>\n",
       "  <tbody>\n",
       "    <tr>\n",
       "      <th>0</th>\n",
       "      <td>0</td>\n",
       "      <td>Go until jurong point, crazy.. Available only ...</td>\n",
       "    </tr>\n",
       "    <tr>\n",
       "      <th>1</th>\n",
       "      <td>0</td>\n",
       "      <td>Ok lar... Joking wif u oni...</td>\n",
       "    </tr>\n",
       "    <tr>\n",
       "      <th>2</th>\n",
       "      <td>1</td>\n",
       "      <td>Free entry in 2 a wkly comp to win FA Cup fina...</td>\n",
       "    </tr>\n",
       "    <tr>\n",
       "      <th>3</th>\n",
       "      <td>0</td>\n",
       "      <td>U dun say so early hor... U c already then say...</td>\n",
       "    </tr>\n",
       "    <tr>\n",
       "      <th>4</th>\n",
       "      <td>0</td>\n",
       "      <td>Nah I don't think he goes to usf, he lives aro...</td>\n",
       "    </tr>\n",
       "  </tbody>\n",
       "</table>\n",
       "</div>"
      ],
      "text/plain": [
       "   label                                            message\n",
       "0      0  Go until jurong point, crazy.. Available only ...\n",
       "1      0                      Ok lar... Joking wif u oni...\n",
       "2      1  Free entry in 2 a wkly comp to win FA Cup fina...\n",
       "3      0  U dun say so early hor... U c already then say...\n",
       "4      0  Nah I don't think he goes to usf, he lives aro..."
      ]
     },
     "execution_count": 9,
     "metadata": {},
     "output_type": "execute_result"
    }
   ],
   "source": [
    "df.head()"
   ]
  },
  {
   "cell_type": "code",
   "execution_count": 10,
   "id": "6dd9e988",
   "metadata": {
    "execution": {
     "iopub.execute_input": "2023-08-01T08:42:17.503154Z",
     "iopub.status.busy": "2023-08-01T08:42:17.502875Z",
     "iopub.status.idle": "2023-08-01T08:42:17.509796Z",
     "shell.execute_reply": "2023-08-01T08:42:17.508854Z"
    },
    "id": "fUwbqHfD-x2x",
    "outputId": "63964276-65a4-4872-9333-7080cae6632a",
    "papermill": {
     "duration": 0.017971,
     "end_time": "2023-08-01T08:42:17.511747",
     "exception": false,
     "start_time": "2023-08-01T08:42:17.493776",
     "status": "completed"
    },
    "tags": []
   },
   "outputs": [
    {
     "data": {
      "text/plain": [
       "0    4516\n",
       "1     653\n",
       "Name: label, dtype: int64"
      ]
     },
     "execution_count": 10,
     "metadata": {},
     "output_type": "execute_result"
    }
   ],
   "source": [
    "df[\"label\"].value_counts()"
   ]
  },
  {
   "cell_type": "code",
   "execution_count": 11,
   "id": "f5196b46",
   "metadata": {
    "execution": {
     "iopub.execute_input": "2023-08-01T08:42:17.528825Z",
     "iopub.status.busy": "2023-08-01T08:42:17.528452Z",
     "iopub.status.idle": "2023-08-01T08:42:17.672186Z",
     "shell.execute_reply": "2023-08-01T08:42:17.670898Z"
    },
    "id": "ekz97L_b-1pC",
    "outputId": "5052a30c-64cf-4cb2-d272-356044e4c328",
    "papermill": {
     "duration": 0.155829,
     "end_time": "2023-08-01T08:42:17.675410",
     "exception": false,
     "start_time": "2023-08-01T08:42:17.519581",
     "status": "completed"
    },
    "tags": []
   },
   "outputs": [
    {
     "data": {
      "image/png": "[encoded data removed]",
      "text/plain": [
       "<Figure size 640x480 with 1 Axes>"
      ]
     },
     "metadata": {},
     "output_type": "display_data"
    }
   ],
   "source": [
    "import matplotlib.pyplot as plt\n",
    "plt.pie(df[\"label\"].value_counts(),autopct = \"%.2f\", labels=['ham','spam'])\n",
    "plt.show()"
   ]
  },
  {
   "cell_type": "code",
   "execution_count": 12,
   "id": "ad1ca0ba",
   "metadata": {
    "execution": {
     "iopub.execute_input": "2023-08-01T08:42:17.712354Z",
     "iopub.status.busy": "2023-08-01T08:42:17.711859Z",
     "iopub.status.idle": "2023-08-01T08:42:18.418680Z",
     "shell.execute_reply": "2023-08-01T08:42:18.417733Z"
    },
    "id": "7_IDRQRN_CWE",
    "outputId": "328bcc90-d399-42aa-9fe6-e5749f2de62f",
    "papermill": {
     "duration": 0.727734,
     "end_time": "2023-08-01T08:42:18.420704",
     "exception": false,
     "start_time": "2023-08-01T08:42:17.692970",
     "status": "completed"
    },
    "tags": []
   },
   "outputs": [
    {
     "name": "stdout",
     "output_type": "stream",
     "text": [
      "[nltk_data] Downloading package stopwords to /usr/share/nltk_data...\n",
      "[nltk_data]   Package stopwords is already up-to-date!\n",
      "[nltk_data] Downloading package punkt to /usr/share/nltk_data...\n",
      "[nltk_data]   Package punkt is already up-to-date!\n"
     ]
    },
    {
     "data": {
      "text/plain": [
       "True"
      ]
     },
     "execution_count": 12,
     "metadata": {},
     "output_type": "execute_result"
    }
   ],
   "source": [
    "import re\n",
    "import nltk\n",
    "nltk.download(\"stopwords\")\n",
    "nltk.download('punkt')"
   ]
  },
  {
   "cell_type": "code",
   "execution_count": 13,
   "id": "735adc02",
   "metadata": {
    "execution": {
     "iopub.execute_input": "2023-08-01T08:42:18.440048Z",
     "iopub.status.busy": "2023-08-01T08:42:18.439504Z",
     "iopub.status.idle": "2023-08-01T08:42:18.444185Z",
     "shell.execute_reply": "2023-08-01T08:42:18.443308Z"
    },
    "id": "IknUu-LK_OST",
    "papermill": {
     "duration": 0.016431,
     "end_time": "2023-08-01T08:42:18.445945",
     "exception": false,
     "start_time": "2023-08-01T08:42:18.429514",
     "status": "completed"
    },
    "tags": []
   },
   "outputs": [],
   "source": [
    "from nltk.corpus import stopwords\n",
    "from nltk.stem.porter import PorterStemmer\n",
    "ps = PorterStemmer()"
   ]
  },
  {
   "cell_type": "code",
   "execution_count": 14,
   "id": "710f9f7e",
   "metadata": {
    "execution": {
     "iopub.execute_input": "2023-08-01T08:42:18.463811Z",
     "iopub.status.busy": "2023-08-01T08:42:18.463387Z",
     "iopub.status.idle": "2023-08-01T08:42:18.469704Z",
     "shell.execute_reply": "2023-08-01T08:42:18.469116Z"
    },
    "id": "sKLsZaZY_etX",
    "papermill": {
     "duration": 0.0173,
     "end_time": "2023-08-01T08:42:18.471511",
     "exception": false,
     "start_time": "2023-08-01T08:42:18.454211",
     "status": "completed"
    },
    "tags": []
   },
   "outputs": [],
   "source": [
    "import pickle\n",
    "import string\n",
    "from nltk import word_tokenize, sent_tokenize\n",
    "from sklearn.feature_extraction.text import TfidfVectorizer\n",
    "# This Function helps to get Ready!!!\n",
    "\n",
    "def data(text):\n",
    "    text = text.lower()               #  Converts Text in Lower Case\n",
    "    text = nltk.word_tokenize(text)   #  Breaks Text in Words\n",
    "\n",
    "    y = []\n",
    "    for i in text:\n",
    "        if i.isalnum():               #  Removing Special Characters\n",
    "            y.append(i)\n",
    "\n",
    "    text = y[:]\n",
    "    y.clear()\n",
    "\n",
    "    for i in text:                    #  Removing Stopwords and Punctuation\n",
    "        if i not in stopwords.words('english') and i not in string.punctuation:\n",
    "            y.append(i)\n",
    "\n",
    "    text = y[:]\n",
    "    y.clear()\n",
    "\n",
    "    for i in text:                    #  Porter Stemmer removing unwanted words\n",
    "        y.append(ps.stem(i))\n",
    "\n",
    "    return \" \".join(y)"
   ]
  },
  {
   "cell_type": "code",
   "execution_count": 15,
   "id": "34942c65",
   "metadata": {
    "execution": {
     "iopub.execute_input": "2023-08-01T08:42:18.489243Z",
     "iopub.status.busy": "2023-08-01T08:42:18.488846Z",
     "iopub.status.idle": "2023-08-01T08:42:31.087159Z",
     "shell.execute_reply": "2023-08-01T08:42:31.086094Z"
    },
    "id": "4QBputF7AURT",
    "papermill": {
     "duration": 12.609815,
     "end_time": "2023-08-01T08:42:31.089479",
     "exception": false,
     "start_time": "2023-08-01T08:42:18.479664",
     "status": "completed"
    },
    "tags": []
   },
   "outputs": [],
   "source": [
    "df[\"message\"] = df[\"message\"].apply(data)"
   ]
  },
  {
   "cell_type": "code",
   "execution_count": 16,
   "id": "b23b2284",
   "metadata": {
    "execution": {
     "iopub.execute_input": "2023-08-01T08:42:31.108216Z",
     "iopub.status.busy": "2023-08-01T08:42:31.107889Z",
     "iopub.status.idle": "2023-08-01T08:42:31.117060Z",
     "shell.execute_reply": "2023-08-01T08:42:31.116099Z"
    },
    "id": "JqCqrBH0C71z",
    "outputId": "5c3e3179-ff12-4119-fca9-723a8354bc3e",
    "papermill": {
     "duration": 0.02054,
     "end_time": "2023-08-01T08:42:31.119022",
     "exception": false,
     "start_time": "2023-08-01T08:42:31.098482",
     "status": "completed"
    },
    "tags": []
   },
   "outputs": [
    {
     "data": {
      "text/html": [
       "<div>\n",
       "<style scoped>\n",
       "    .dataframe tbody tr th:only-of-type {\n",
       "        vertical-align: middle;\n",
       "    }\n",
       "\n",
       "    .dataframe tbody tr th {\n",
       "        vertical-align: top;\n",
       "    }\n",
       "\n",
       "    .dataframe thead th {\n",
       "        text-align: right;\n",
       "    }\n",
       "</style>\n",
       "<table border=\"1\" class=\"dataframe\">\n",
       "  <thead>\n",
       "    <tr style=\"text-align: right;\">\n",
       "      <th></th>\n",
       "      <th>label</th>\n",
       "      <th>message</th>\n",
       "    </tr>\n",
       "  </thead>\n",
       "  <tbody>\n",
       "    <tr>\n",
       "      <th>0</th>\n",
       "      <td>0</td>\n",
       "      <td>go jurong point avail bugi n great world la e ...</td>\n",
       "    </tr>\n",
       "    <tr>\n",
       "      <th>1</th>\n",
       "      <td>0</td>\n",
       "      <td>ok lar joke wif u oni</td>\n",
       "    </tr>\n",
       "    <tr>\n",
       "      <th>2</th>\n",
       "      <td>1</td>\n",
       "      <td>free entri 2 wkli comp win fa cup final tkt 21...</td>\n",
       "    </tr>\n",
       "    <tr>\n",
       "      <th>3</th>\n",
       "      <td>0</td>\n",
       "      <td>u dun say earli hor u c alreadi say</td>\n",
       "    </tr>\n",
       "    <tr>\n",
       "      <th>4</th>\n",
       "      <td>0</td>\n",
       "      <td>nah think goe usf live around though</td>\n",
       "    </tr>\n",
       "  </tbody>\n",
       "</table>\n",
       "</div>"
      ],
      "text/plain": [
       "   label                                            message\n",
       "0      0  go jurong point avail bugi n great world la e ...\n",
       "1      0                              ok lar joke wif u oni\n",
       "2      1  free entri 2 wkli comp win fa cup final tkt 21...\n",
       "3      0                u dun say earli hor u c alreadi say\n",
       "4      0               nah think goe usf live around though"
      ]
     },
     "execution_count": 16,
     "metadata": {},
     "output_type": "execute_result"
    }
   ],
   "source": [
    "df.head()"
   ]
  },
  {
   "cell_type": "code",
   "execution_count": 17,
   "id": "3bdf8a90",
   "metadata": {
    "execution": {
     "iopub.execute_input": "2023-08-01T08:42:31.138144Z",
     "iopub.status.busy": "2023-08-01T08:42:31.137824Z",
     "iopub.status.idle": "2023-08-01T08:42:31.142024Z",
     "shell.execute_reply": "2023-08-01T08:42:31.140928Z"
    },
    "id": "Pg2h1SZaGBeT",
    "papermill": {
     "duration": 0.016207,
     "end_time": "2023-08-01T08:42:31.144051",
     "exception": false,
     "start_time": "2023-08-01T08:42:31.127844",
     "status": "completed"
    },
    "tags": []
   },
   "outputs": [],
   "source": [
    "tfidv = TfidfVectorizer(max_features=3000)"
   ]
  },
  {
   "cell_type": "code",
   "execution_count": 18,
   "id": "d7e0136f",
   "metadata": {
    "execution": {
     "iopub.execute_input": "2023-08-01T08:42:31.163263Z",
     "iopub.status.busy": "2023-08-01T08:42:31.162986Z",
     "iopub.status.idle": "2023-08-01T08:42:31.368440Z",
     "shell.execute_reply": "2023-08-01T08:42:31.367612Z"
    },
    "id": "_2fJjq-CGYq9",
    "papermill": {
     "duration": 0.217749,
     "end_time": "2023-08-01T08:42:31.370856",
     "exception": false,
     "start_time": "2023-08-01T08:42:31.153107",
     "status": "completed"
    },
    "tags": []
   },
   "outputs": [],
   "source": [
    "X = tfidv.fit_transform(df[\"message\"]).toarray()\n",
    "y = df[\"label\"].values"
   ]
  },
  {
   "cell_type": "code",
   "execution_count": 19,
   "id": "fbf244e3",
   "metadata": {
    "execution": {
     "iopub.execute_input": "2023-08-01T08:42:31.391649Z",
     "iopub.status.busy": "2023-08-01T08:42:31.390648Z",
     "iopub.status.idle": "2023-08-01T08:42:31.465546Z",
     "shell.execute_reply": "2023-08-01T08:42:31.464611Z"
    },
    "id": "1uQ2mctGGgIF",
    "papermill": {
     "duration": 0.087537,
     "end_time": "2023-08-01T08:42:31.467964",
     "exception": false,
     "start_time": "2023-08-01T08:42:31.380427",
     "status": "completed"
    },
    "tags": []
   },
   "outputs": [],
   "source": [
    "from sklearn.model_selection import train_test_split\n",
    "X_train, X_test, y_train, y_test = train_test_split(X,y,test_size=0.2,random_state=2)"
   ]
  },
  {
   "cell_type": "code",
   "execution_count": 20,
   "id": "2b8ef782",
   "metadata": {
    "execution": {
     "iopub.execute_input": "2023-08-01T08:42:31.487719Z",
     "iopub.status.busy": "2023-08-01T08:42:31.487348Z",
     "iopub.status.idle": "2023-08-01T08:42:31.537293Z",
     "shell.execute_reply": "2023-08-01T08:42:31.535893Z"
    },
    "id": "dSc9LN99GpA4",
    "outputId": "217a970d-523f-410d-b16f-e793fdf2b4a2",
    "papermill": {
     "duration": 0.063945,
     "end_time": "2023-08-01T08:42:31.541098",
     "exception": false,
     "start_time": "2023-08-01T08:42:31.477153",
     "status": "completed"
    },
    "tags": []
   },
   "outputs": [],
   "source": [
    "import sklearn\n",
    "from sklearn.naive_bayes import GaussianNB,MultinomialNB\n",
    "mnb = MultinomialNB()\n",
    "spam_detect_model = mnb.fit(X_train,y_train)"
   ]
  },
  {
   "cell_type": "code",
   "execution_count": 21,
   "id": "58d7e95b",
   "metadata": {
    "execution": {
     "iopub.execute_input": "2023-08-01T08:42:31.580803Z",
     "iopub.status.busy": "2023-08-01T08:42:31.580242Z",
     "iopub.status.idle": "2023-08-01T08:42:31.637174Z",
     "shell.execute_reply": "2023-08-01T08:42:31.635769Z"
    },
    "id": "QJEOXLIKHMmi",
    "papermill": {
     "duration": 0.080917,
     "end_time": "2023-08-01T08:42:31.641171",
     "exception": false,
     "start_time": "2023-08-01T08:42:31.560254",
     "status": "completed"
    },
    "tags": []
   },
   "outputs": [],
   "source": [
    "spam_detect_model.fit(X_train, y_train)\n",
    "y_pred = spam_detect_model.predict(X_test)"
   ]
  },
  {
   "cell_type": "code",
   "execution_count": 22,
   "id": "05a28b6e",
   "metadata": {
    "execution": {
     "iopub.execute_input": "2023-08-01T08:42:31.681777Z",
     "iopub.status.busy": "2023-08-01T08:42:31.681212Z",
     "iopub.status.idle": "2023-08-01T08:42:31.700327Z",
     "shell.execute_reply": "2023-08-01T08:42:31.699065Z"
    },
    "papermill": {
     "duration": 0.043287,
     "end_time": "2023-08-01T08:42:31.704009",
     "exception": false,
     "start_time": "2023-08-01T08:42:31.660722",
     "status": "completed"
    },
    "tags": []
   },
   "outputs": [
    {
     "data": {
      "text/plain": [
       "(array([[896,   0],\n",
       "        [ 28, 110]]),\n",
       " 0.9729206963249516)"
      ]
     },
     "execution_count": 22,
     "metadata": {},
     "output_type": "execute_result"
    }
   ],
   "source": [
    "from sklearn.metrics import confusion_matrix , classification_report, accuracy_score\n",
    "cm = confusion_matrix(y_test,y_pred)\n",
    "accuracy = accuracy_score(y_test,y_pred)\n",
    "cm,accuracy"
   ]
  },
  {
   "cell_type": "code",
   "execution_count": 23,
   "id": "892e3295",
   "metadata": {
    "execution": {
     "iopub.execute_input": "2023-08-01T08:42:31.743547Z",
     "iopub.status.busy": "2023-08-01T08:42:31.743025Z",
     "iopub.status.idle": "2023-08-01T08:42:31.759519Z",
     "shell.execute_reply": "2023-08-01T08:42:31.758899Z"
    },
    "papermill": {
     "duration": 0.038453,
     "end_time": "2023-08-01T08:42:31.761334",
     "exception": false,
     "start_time": "2023-08-01T08:42:31.722881",
     "status": "completed"
    },
    "tags": []
   },
   "outputs": [],
   "source": [
    "cr = classification_report(y_test,y_pred)"
   ]
  },
  {
   "cell_type": "code",
   "execution_count": 24,
   "id": "a20d286e",
   "metadata": {
    "execution": {
     "iopub.execute_input": "2023-08-01T08:42:31.780696Z",
     "iopub.status.busy": "2023-08-01T08:42:31.780200Z",
     "iopub.status.idle": "2023-08-01T08:42:31.784853Z",
     "shell.execute_reply": "2023-08-01T08:42:31.784193Z"
    },
    "papermill": {
     "duration": 0.0159,
     "end_time": "2023-08-01T08:42:31.786516",
     "exception": false,
     "start_time": "2023-08-01T08:42:31.770616",
     "status": "completed"
    },
    "tags": []
   },
   "outputs": [
    {
     "data": {
      "text/plain": [
       "'              precision    recall  f1-score   support\\n\\n           0       0.97      1.00      0.98       896\\n           1       1.00      0.80      0.89       138\\n\\n    accuracy                           0.97      1034\\n   macro avg       0.98      0.90      0.94      1034\\nweighted avg       0.97      0.97      0.97      1034\\n'"
      ]
     },
     "execution_count": 24,
     "metadata": {},
     "output_type": "execute_result"
    }
   ],
   "source": [
    "cr"
   ]
  },
  {
   "cell_type": "code",
   "execution_count": null,
   "id": "7a16d00b",
   "metadata": {
    "papermill": {
     "duration": 0.008921,
     "end_time": "2023-08-01T08:42:31.804147",
     "exception": false,
     "start_time": "2023-08-01T08:42:31.795226",
     "status": "completed"
    },
    "tags": []
   },
   "outputs": [],
   "source": []
  }
 ],
 "metadata": {
  "kernelspec": {
   "display_name": "Python 3",
   "language": "python",
   "name": "python3"
  },
  "language_info": {
   "codemirror_mode": {
    "name": "ipython",
    "version": 3
   },
   "file_extension": ".py",
   "mimetype": "text/x-python",
   "name": "python",
   "nbconvert_exporter": "python",
   "pygments_lexer": "ipython3",
   "version": "3.10.12"
  },
  "papermill": {
   "default_parameters": {},
   "duration": 25.492365,
   "end_time": "2023-08-01T08:42:32.531911",
   "environment_variables": {},
   "exception": null,
   "input_path": "__notebook__.ipynb",
   "output_path": "__notebook__.ipynb",
   "parameters": {},
   "start_time": "2023-08-01T08:42:07.039546",
   "version": "2.4.0"
  }
 },
 "nbformat": 4,
 "nbformat_minor": 5
}
